{
 "cells": [
  {
   "cell_type": "code",
   "execution_count": null,
   "id": "50879641",
   "metadata": {},
   "outputs": [
    {
     "name": "stdout",
     "output_type": "stream",
     "text": [
      "✅ Done! All images are copied and split into flat train/val/test folders.\n"
     ]
    }
   ],
   "source": [
    "import os\n",
    "import shutil\n",
    "from sklearn.model_selection import train_test_split\n",
    "\n",
    "# ========== SETTINGS ==========\n",
    "SOURCE_FOLDER = r'C:\\Users\\USER\\Downloads\\data\\data2\\train_brain'  # Original dataset folder\n",
    "DEST_FOLDER = r'C:\\Users\\USER\\Downloads\\data\\imageclassifier\\brain'               # Where to save train/val/test\n",
    "TRAIN_RATIO = 0.8\n",
    "VAL_RATIO = 0.1\n",
    "TEST_RATIO = 0.1\n",
    "MAX_IMAGES_PER_CLASS = 160  # <-- Change this to limit how many images you use per class\n",
    "SEED = 42\n",
    "\n",
    "# ========== MAKE OUTPUT FOLDERS ==========\n",
    "for split in ['train', 'val', 'test']:\n",
    "    os.makedirs(os.path.join(DEST_FOLDER, split), exist_ok=True)\n",
    "\n",
    "# ========== PROCESS EACH CLASS ==========\n",
    "for class_name in sorted(os.listdir(SOURCE_FOLDER)):\n",
    "    class_path = os.path.join(SOURCE_FOLDER, class_name)\n",
    "    if not os.path.isdir(class_path):\n",
    "        continue  # Skip if not a folder\n",
    "\n",
    "    # Get all image files in the class folder\n",
    "    all_images = [f for f in os.listdir(class_path) if f.lower().endswith(('.jpg', '.jpeg', '.png'))]\n",
    "    all_images = all_images[:MAX_IMAGES_PER_CLASS]  # Limit if needed\n",
    "\n",
    "    # Split images into train, val, test\n",
    "    train_imgs, temp_imgs = train_test_split(all_images, train_size=TRAIN_RATIO, random_state=SEED)\n",
    "    val_imgs, test_imgs = train_test_split(temp_imgs, test_size=TEST_RATIO / (VAL_RATIO + TEST_RATIO), random_state=SEED)\n",
    "\n",
    "    # Save to new folders with flat structure\n",
    "    for split_name, image_list in zip(['train', 'val', 'test'], [train_imgs, val_imgs, test_imgs]):\n",
    "        for img_name in image_list:\n",
    "            src = os.path.join(class_path, img_name)\n",
    "            # New name with class in filename to keep track\n",
    "            new_name = f\"{class_name.replace(' ', '_')}__{img_name}\"\n",
    "            dst = os.path.join(DEST_FOLDER, split_name, new_name)\n",
    "            shutil.copy2(src, dst)\n",
    "\n",
    "print(\"✅ Done! All images are copied and split into flat train/val/test folders.\")\n"
   ]
  },
  {
   "cell_type": "code",
   "execution_count": 6,
   "id": "ba79710b",
   "metadata": {},
   "outputs": [
    {
     "name": "stdout",
     "output_type": "stream",
     "text": [
      "✅ Done! Split 208 images into:\n",
      "   - 166 for training\n",
      "   - 20 for validation\n",
      "   - 22 for testing\n"
     ]
    }
   ],
   "source": [
    "import os\n",
    "import shutil\n",
    "import random\n",
    "\n",
    "# ========== SETTINGS ==========\n",
    "SOURCE_FOLDER = r'C:\\Users\\USER\\Downloads\\data\\data2\\train_chest'  # Your flat folder with images\n",
    "DEST_FOLDER = r'C:\\Users\\USER\\Downloads\\data\\imageclassifier\\chest'        # Where train/val/test will go\n",
    "\n",
    "TRAIN_RATIO = 0.8\n",
    "VAL_RATIO = 0.1\n",
    "TEST_RATIO = 0.1\n",
    "MAX_IMAGES = None  # Set to an int to limit, or None to use all\n",
    "SEED = 42\n",
    "\n",
    "# ========== PREP DESTINATION ==========\n",
    "random.seed(SEED)\n",
    "\n",
    "for split in ['train', 'val', 'test']:\n",
    "    split_path = os.path.join(DEST_FOLDER, split)\n",
    "    if os.path.exists(split_path):\n",
    "        shutil.rmtree(split_path)\n",
    "    os.makedirs(split_path)\n",
    "\n",
    "# ========== GET & SHUFFLE IMAGE LIST ==========\n",
    "all_images = [f for f in os.listdir(SOURCE_FOLDER) if f.lower().endswith(('.jpg', '.jpeg', '.png'))]\n",
    "if MAX_IMAGES:\n",
    "    all_images = all_images[:MAX_IMAGES]\n",
    "\n",
    "random.shuffle(all_images)\n",
    "\n",
    "# ========== SPLIT ==========\n",
    "n_total = len(all_images)\n",
    "n_train = int(n_total * TRAIN_RATIO)\n",
    "n_val = int(n_total * VAL_RATIO)\n",
    "n_test = n_total - n_train - n_val  # Remaining for test\n",
    "\n",
    "train_imgs = all_images[:n_train]\n",
    "val_imgs = all_images[n_train:n_train + n_val]\n",
    "test_imgs = all_images[n_train + n_val:]\n",
    "\n",
    "# ========== COPY ==========\n",
    "for split_name, img_list in zip(['train', 'val', 'test'], [train_imgs, val_imgs, test_imgs]):\n",
    "    for img_name in img_list:\n",
    "        src = os.path.join(SOURCE_FOLDER, img_name)\n",
    "        dst = os.path.join(DEST_FOLDER, split_name, img_name)\n",
    "        shutil.copy2(src, dst)\n",
    "\n",
    "print(f\"✅ Done! Split {n_total} images into:\")\n",
    "print(f\"   - {len(train_imgs)} for training\")\n",
    "print(f\"   - {len(val_imgs)} for validation\")\n",
    "print(f\"   - {len(test_imgs)} for testing\")\n"
   ]
  },
  {
   "cell_type": "code",
   "execution_count": null,
   "id": "096ad956",
   "metadata": {},
   "outputs": [
    {
     "name": "stderr",
     "output_type": "stream",
     "text": [
      "c:\\Users\\USER\\AppData\\Local\\Programs\\Python\\Python311\\Lib\\site-packages\\torchvision\\models\\_utils.py:208: UserWarning: The parameter 'pretrained' is deprecated since 0.13 and may be removed in the future, please use 'weights' instead.\n",
      "  warnings.warn(\n",
      "c:\\Users\\USER\\AppData\\Local\\Programs\\Python\\Python311\\Lib\\site-packages\\torchvision\\models\\_utils.py:223: UserWarning: Arguments other than a weight enum or `None` for 'weights' are deprecated since 0.13 and may be removed in the future. The current behavior is equivalent to passing `weights=ResNet18_Weights.IMAGENET1K_V1`. You can also use `weights=ResNet18_Weights.DEFAULT` to get the most up-to-date weights.\n",
      "  warnings.warn(msg)\n",
      "c:\\Users\\USER\\AppData\\Local\\Programs\\Python\\Python311\\Lib\\site-packages\\torch\\optim\\lr_scheduler.py:62: UserWarning: The verbose parameter is deprecated. Please use get_last_lr() to access the learning rate.\n",
      "  warnings.warn(\n",
      "C:\\Users\\USER\\AppData\\Local\\Temp\\ipykernel_51256\\2977131188.py:61: FutureWarning: `torch.cuda.amp.GradScaler(args...)` is deprecated. Please use `torch.amp.GradScaler('cuda', args...)` instead.\n",
      "  scaler = GradScaler()\n"
     ]
    },
    {
     "name": "stdout",
     "output_type": "stream",
     "text": [
      "\n",
      "Epoch 1/30\n",
      "--------------------\n"
     ]
    },
    {
     "name": "stderr",
     "output_type": "stream",
     "text": [
      "C:\\Users\\USER\\AppData\\Local\\Temp\\ipykernel_51256\\2977131188.py:85: FutureWarning: `torch.cuda.amp.autocast(args...)` is deprecated. Please use `torch.amp.autocast('cuda', args...)` instead.\n",
      "  with autocast():\n"
     ]
    },
    {
     "name": "stdout",
     "output_type": "stream",
     "text": [
      "Train Loss: 0.1313 Acc: 0.9627\n",
      "Val Loss: 0.0052 Acc: 0.9939\n",
      "Val F1-score: 0.9868\n",
      "✅ Saved improved model to: C:/Users/USER/Downloads/data/imageclassifier/checkpoints\\best_model_f1_0.9868.pth\n",
      "\n",
      "Epoch 2/30\n",
      "--------------------\n"
     ]
    },
    {
     "name": "stderr",
     "output_type": "stream",
     "text": [
      "C:\\Users\\USER\\AppData\\Local\\Temp\\ipykernel_51256\\2977131188.py:85: FutureWarning: `torch.cuda.amp.autocast(args...)` is deprecated. Please use `torch.amp.autocast('cuda', args...)` instead.\n",
      "  with autocast():\n"
     ]
    },
    {
     "name": "stdout",
     "output_type": "stream",
     "text": [
      "Train Loss: 0.0008 Acc: 1.0000\n",
      "Val Loss: 0.0000 Acc: 1.0000\n",
      "Val F1-score: 1.0000\n",
      "✅ Saved improved model to: C:/Users/USER/Downloads/data/imageclassifier/checkpoints\\best_model_f1_1.0000.pth\n",
      "\n",
      "Epoch 3/30\n",
      "--------------------\n"
     ]
    },
    {
     "name": "stderr",
     "output_type": "stream",
     "text": [
      "C:\\Users\\USER\\AppData\\Local\\Temp\\ipykernel_51256\\2977131188.py:85: FutureWarning: `torch.cuda.amp.autocast(args...)` is deprecated. Please use `torch.amp.autocast('cuda', args...)` instead.\n",
      "  with autocast():\n"
     ]
    },
    {
     "name": "stdout",
     "output_type": "stream",
     "text": [
      "Train Loss: 0.0074 Acc: 0.9992\n",
      "Val Loss: 0.0000 Acc: 1.0000\n",
      "Val F1-score: 1.0000\n",
      "\n",
      "Epoch 4/30\n",
      "--------------------\n"
     ]
    },
    {
     "name": "stderr",
     "output_type": "stream",
     "text": [
      "C:\\Users\\USER\\AppData\\Local\\Temp\\ipykernel_51256\\2977131188.py:85: FutureWarning: `torch.cuda.amp.autocast(args...)` is deprecated. Please use `torch.amp.autocast('cuda', args...)` instead.\n",
      "  with autocast():\n"
     ]
    },
    {
     "name": "stdout",
     "output_type": "stream",
     "text": [
      "Train Loss: 0.0002 Acc: 1.0000\n",
      "Val Loss: 0.0000 Acc: 1.0000\n",
      "Val F1-score: 1.0000\n",
      "\n",
      "Epoch 5/30\n",
      "--------------------\n"
     ]
    },
    {
     "name": "stderr",
     "output_type": "stream",
     "text": [
      "C:\\Users\\USER\\AppData\\Local\\Temp\\ipykernel_51256\\2977131188.py:85: FutureWarning: `torch.cuda.amp.autocast(args...)` is deprecated. Please use `torch.amp.autocast('cuda', args...)` instead.\n",
      "  with autocast():\n"
     ]
    },
    {
     "name": "stdout",
     "output_type": "stream",
     "text": [
      "Train Loss: 0.0000 Acc: 1.0000\n",
      "Val Loss: 0.0000 Acc: 1.0000\n",
      "Val F1-score: 1.0000\n",
      "\n",
      "Epoch 6/30\n",
      "--------------------\n"
     ]
    },
    {
     "name": "stderr",
     "output_type": "stream",
     "text": [
      "C:\\Users\\USER\\AppData\\Local\\Temp\\ipykernel_51256\\2977131188.py:85: FutureWarning: `torch.cuda.amp.autocast(args...)` is deprecated. Please use `torch.amp.autocast('cuda', args...)` instead.\n",
      "  with autocast():\n"
     ]
    },
    {
     "name": "stdout",
     "output_type": "stream",
     "text": [
      "Train Loss: 0.0010 Acc: 1.0000\n",
      "Val Loss: 0.0000 Acc: 1.0000\n",
      "Val F1-score: 1.0000\n",
      "\n",
      "Epoch 7/30\n",
      "--------------------\n"
     ]
    },
    {
     "name": "stderr",
     "output_type": "stream",
     "text": [
      "C:\\Users\\USER\\AppData\\Local\\Temp\\ipykernel_51256\\2977131188.py:85: FutureWarning: `torch.cuda.amp.autocast(args...)` is deprecated. Please use `torch.amp.autocast('cuda', args...)` instead.\n",
      "  with autocast():\n"
     ]
    },
    {
     "name": "stdout",
     "output_type": "stream",
     "text": [
      "Train Loss: 0.0000 Acc: 1.0000\n",
      "Val Loss: 0.0000 Acc: 1.0000\n",
      "Val F1-score: 1.0000\n",
      "\n",
      "🛑 Early stopping triggered.\n"
     ]
    },
    {
     "ename": "",
     "evalue": "",
     "output_type": "error",
     "traceback": [
      "\u001b[1;31mThe Kernel crashed while executing code in the current cell or a previous cell. \n",
      "\u001b[1;31mPlease review the code in the cell(s) to identify a possible cause of the failure. \n",
      "\u001b[1;31mClick <a href='https://aka.ms/vscodeJupyterKernelCrash'>here</a> for more info. \n",
      "\u001b[1;31mView Jupyter <a href='command:jupyter.viewOutput'>log</a> for further details."
     ]
    }
   ],
   "source": [
    "import os\n",
    "import torch\n",
    "import torch.nn as nn\n",
    "import torch.optim as optim\n",
    "from torchvision import datasets, transforms, models\n",
    "from torch.utils.data import DataLoader\n",
    "from sklearn.metrics import classification_report, f1_score\n",
    "from torch.cuda.amp import GradScaler, autocast\n",
    "from torch.nn.utils import clip_grad_norm_\n",
    "import copy\n",
    "from datetime import datetime\n",
    "\n",
    "# ========================= CONFIG =========================\n",
    "TRAIN_DIR = r'C:/Users/USER/Downloads/data/imageclassifier/train'\n",
    "VAL_DIR = r'C:/Users/USER/Downloads/data/imageclassifier/val'\n",
    "CHECKPOINT_DIR = r'C:/Users/USER/Downloads/data/imageclassifier/checkpoints'\n",
    "NUM_CLASSES = 4\n",
    "BATCH_SIZE = 32\n",
    "EPOCHS = 30\n",
    "EARLY_STOP_PATIENCE = 5\n",
    "LR = 1e-4\n",
    "WEIGHT_DECAY = 1e-4\n",
    "GRAD_CLIP = 5.0\n",
    "DEVICE = torch.device('cuda' if torch.cuda.is_available() else 'cpu')\n",
    "os.makedirs(CHECKPOINT_DIR, exist_ok=True)\n",
    "\n",
    "# ========================= DATA =========================\n",
    "data_transforms = {\n",
    "    'train': transforms.Compose([\n",
    "        transforms.Resize((224, 224)),\n",
    "        transforms.RandomHorizontalFlip(),\n",
    "        transforms.RandomRotation(10),\n",
    "        transforms.ToTensor(),\n",
    "        transforms.Normalize([0.485, 0.456, 0.406], [0.229, 0.224, 0.225])\n",
    "    ]),\n",
    "    'val': transforms.Compose([\n",
    "        transforms.Resize((224, 224)),\n",
    "        transforms.ToTensor(),\n",
    "        transforms.Normalize([0.485, 0.456, 0.406], [0.229, 0.224, 0.225])\n",
    "    ])\n",
    "}\n",
    "\n",
    "datasets_dict = {\n",
    "    'train': datasets.ImageFolder(TRAIN_DIR, data_transforms['train']),\n",
    "    'val': datasets.ImageFolder(VAL_DIR, data_transforms['val'])\n",
    "}\n",
    "\n",
    "dataloaders = {\n",
    "    split: DataLoader(datasets_dict[split], batch_size=BATCH_SIZE, shuffle=(split == 'train'))\n",
    "    for split in ['train', 'val']\n",
    "}\n",
    "\n",
    "# ========================= MODEL =========================\n",
    "model = models.resnet18(pretrained=True)\n",
    "model.fc = nn.Linear(model.fc.in_features, NUM_CLASSES)\n",
    "model = model.to(DEVICE)\n",
    "\n",
    "criterion = nn.CrossEntropyLoss()\n",
    "optimizer = optim.AdamW(model.parameters(), lr=LR, weight_decay=WEIGHT_DECAY)\n",
    "scheduler = optim.lr_scheduler.ReduceLROnPlateau(optimizer, mode='min', patience=2, verbose=True)\n",
    "scaler = GradScaler()\n",
    "\n",
    "# ========================= TRAIN =========================\n",
    "best_model_wts = copy.deepcopy(model.state_dict())\n",
    "best_acc = 0.0\n",
    "best_f1 = 0.0\n",
    "epochs_no_improve = 0\n",
    "\n",
    "for epoch in range(EPOCHS):\n",
    "    print(f\"\\nEpoch {epoch+1}/{EPOCHS}\")\n",
    "    print(\"-\"*20)\n",
    "\n",
    "    for phase in ['train', 'val']:\n",
    "        model.train() if phase == 'train' else model.eval()\n",
    "        running_loss = 0.0\n",
    "        running_corrects = 0\n",
    "        all_preds = []\n",
    "        all_labels = []\n",
    "\n",
    "        for inputs, labels in dataloaders[phase]:\n",
    "            inputs, labels = inputs.to(DEVICE), labels.to(DEVICE)\n",
    "            optimizer.zero_grad()\n",
    "\n",
    "            with torch.set_grad_enabled(phase == 'train'):\n",
    "                with autocast():\n",
    "                    outputs = model(inputs)\n",
    "                    loss = criterion(outputs, labels)\n",
    "                preds = torch.argmax(outputs, 1)\n",
    "\n",
    "                if phase == 'train':\n",
    "                    scaler.scale(loss).backward()\n",
    "                    clip_grad_norm_(model.parameters(), GRAD_CLIP)\n",
    "                    scaler.step(optimizer)\n",
    "                    scaler.update()\n",
    "\n",
    "            running_loss += loss.item() * inputs.size(0)\n",
    "            running_corrects += torch.sum(preds == labels.data)\n",
    "            all_preds.extend(preds.cpu().numpy())\n",
    "            all_labels.extend(labels.cpu().numpy())\n",
    "\n",
    "        epoch_loss = running_loss / len(datasets_dict[phase])\n",
    "        epoch_acc = running_corrects.double() / len(datasets_dict[phase])\n",
    "        print(f\"{phase.capitalize()} Loss: {epoch_loss:.4f} Acc: {epoch_acc:.4f}\")\n",
    "\n",
    "        if phase == 'val':\n",
    "            scheduler.step(epoch_loss)\n",
    "            f1 = f1_score(all_labels, all_preds, average='macro')\n",
    "            print(f\"Val F1-score: {f1:.4f}\")\n",
    "\n",
    "            if f1 > best_f1:\n",
    "                best_f1 = f1\n",
    "                best_model_wts = copy.deepcopy(model.state_dict())\n",
    "                checkpoint_path = os.path.join(CHECKPOINT_DIR, f'best_model_f1_{f1:.4f}.pth')\n",
    "                torch.save(best_model_wts, checkpoint_path)\n",
    "                print(f\"✅ Saved improved model to: {checkpoint_path}\")\n",
    "                epochs_no_improve = 0\n",
    "            else:\n",
    "                epochs_no_improve += 1\n",
    "\n",
    "    if epochs_no_improve >= EARLY_STOP_PATIENCE:\n",
    "        print(\"\\n🛑 Early stopping triggered.\")\n",
    "        break\n"
   ]
  }
 ],
 "metadata": {
  "kernelspec": {
   "display_name": "Python 3",
   "language": "python",
   "name": "python3"
  },
  "language_info": {
   "codemirror_mode": {
    "name": "ipython",
    "version": 3
   },
   "file_extension": ".py",
   "mimetype": "text/x-python",
   "name": "python",
   "nbconvert_exporter": "python",
   "pygments_lexer": "ipython3",
   "version": "3.11.9"
  }
 },
 "nbformat": 4,
 "nbformat_minor": 5
}
